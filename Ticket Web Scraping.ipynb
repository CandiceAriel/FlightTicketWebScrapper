{
 "cells": [
  {
   "cell_type": "code",
   "execution_count": 38,
   "id": "48f3f7c4",
   "metadata": {},
   "outputs": [],
   "source": [
    "import pandas as pd\n",
    "import time\n",
    "from bs4 import BeautifulSoup\n",
    "from selenium import webdriver\n",
    "from selenium.webdriver.chrome.service import Service\n",
    "from webdriver_manager.chrome import ChromeDriverManager\n",
    "from selenium.webdriver.common.by import By\n",
    "\n",
    "import smtplib\n",
    "\n",
    "# Create service\n",
    "# driver = webdriver.Chrome(ChromeDriverManager().install())\n",
    "driver = webdriver.Chrome(service=Service(ChromeDriverManager().install()))"
   ]
  },
  {
   "cell_type": "markdown",
   "id": "8d8fe431",
   "metadata": {},
   "source": [
    "# Create Driver"
   ]
  },
  {
   "cell_type": "code",
   "execution_count": 39,
   "id": "df058eeb",
   "metadata": {},
   "outputs": [],
   "source": [
    "dLoc = 'JKTC'\n",
    "aLoc = 'SIN'\n",
    "depDate = '2023-04-07'\n",
    "retDate = '2023-06-08'\n",
    "adult=1\n",
    "child=0\n",
    "infant=0\n",
    "flightClass=\"economy\"\n",
    "flightType=\"depart\"\n",
    "flexiFare = 'false'\n",
    "\n",
    "pageURL = 'https://www.tiket.com/pesawat/search?d={dLoc}&a={aLoc}&dType=CITY&aType=AIRPORT&date={depDate}&ret_date={retDate}&adult={adult}&child={child}&infant={infant}&class={flightClass}&type={flightType}&flexiFare={flexiFare}'\\\n",
    ".format(\\\n",
    "        dLoc = dLoc,\\\n",
    "        aLoc = aLoc,\\\n",
    "        depDate = depDate,\\\n",
    "        retDate = retDate,\\\n",
    "        adult = adult,\\\n",
    "        child = child,\\\n",
    "        infant = infant,\\\n",
    "        flightClass = flightClass,\\\n",
    "        flightType = flightType,\\\n",
    "        flexiFare = flexiFare\\\n",
    ")\n",
    "          \n",
    "driver.get(pageURL)\n",
    "\n",
    "driver.find_elements(By.CLASS_NAME, 'btn-action')[0].click()"
   ]
  },
  {
   "cell_type": "code",
   "execution_count": 101,
   "id": "415a0045",
   "metadata": {},
   "outputs": [
    {
     "name": "stdout",
     "output_type": "stream",
     "text": [
      "16\n",
      "16\n",
      "{'Airlines :Scoot,Ticket Prices :IDR 514.400'}\n"
     ]
    }
   ],
   "source": [
    "flightRows = driver.find_elements(By.CLASS_NAME, 'wrapper-flight-list')\n",
    "\n",
    "listAirlines = []\n",
    "listPrices = []\n",
    "listAll = []\n",
    "\n",
    "# Dig into element and extract needed datas\n",
    "for WebElement in flightRows:\n",
    "    elementHTML = WebElement.get_attribute('innerHTML')\n",
    "    elementSoup = BeautifulSoup(elementHTML, 'html.parser')\n",
    "#     print(elementSoup.prettify())\n",
    "\n",
    "     #airlines\n",
    "    tempAirlines = elementSoup.find(\"span\", class_=\"text-marketing-airline\")\n",
    "    listAirlines.append(tempAirlines.text)\n",
    "    \n",
    "    #price\n",
    "    tempPrice = elementSoup.find(\"div\", class_=\"text-price-main-default\")\n",
    "    listPrices.append(tempPrice.text)\n",
    "    \n",
    "\n",
    "for i in range (len(listAirlines)):\n",
    "    listAll.append({'Airlines :' + listAirlines[i] + ',' + 'Ticket Prices :' + listPrices[i]})\n",
    "    \n",
    "    \n",
    "print(len(listPrices))\n",
    "print(len(listAirlines))\n",
    "print(listAll[0])"
   ]
  },
  {
   "cell_type": "code",
   "execution_count": null,
   "id": "75ad04cb",
   "metadata": {},
   "outputs": [],
   "source": [
    "# Data needed: Price"
   ]
  }
 ],
 "metadata": {
  "kernelspec": {
   "display_name": "Python 3 (ipykernel)",
   "language": "python",
   "name": "python3"
  },
  "language_info": {
   "codemirror_mode": {
    "name": "ipython",
    "version": 3
   },
   "file_extension": ".py",
   "mimetype": "text/x-python",
   "name": "python",
   "nbconvert_exporter": "python",
   "pygments_lexer": "ipython3",
   "version": "3.10.9"
  }
 },
 "nbformat": 4,
 "nbformat_minor": 5
}
